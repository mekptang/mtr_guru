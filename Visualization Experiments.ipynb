{
 "cells": [
  {
   "cell_type": "markdown",
   "id": "c48bfdd3",
   "metadata": {},
   "source": [
    "# Library Import"
   ]
  },
  {
   "cell_type": "code",
   "execution_count": 1,
   "id": "c80e1b20",
   "metadata": {},
   "outputs": [],
   "source": [
    "import json\n",
    "import requests as req\n",
    "from types import SimpleNamespace\n",
    "\n",
    "import pandas as pd\n",
    "from IPython.display import display\n",
    "\n",
    "import plotly\n",
    "import plotly.graph_objs as go\n",
    "import chart_studio\n",
    "import plotly.express as px\n",
    "import plotly.figure_factory as ff\n",
    "\n",
    "\n",
    "# Input Data\n",
    "headers = {\n",
    "    'Content-Type': 'application/json',\n",
    "}\n",
    "\n",
    "rail_type_hr = 'hr'\n",
    "rail_type_lr = 'lr'\n",
    "\n",
    "# Handle POST requests\n",
    "def post_req_handler(rail_type, headers, data):\n",
    "\n",
    "    res = req.post(\"http://127.0.0.1:5000/{}\".format(rail_type), headers=headers, data=json.dumps(data))\n",
    "    data = json.loads(res.content)\n",
    "\n",
    "    return data"
   ]
  },
  {
   "cell_type": "markdown",
   "id": "23ff84d0",
   "metadata": {},
   "source": [
    "# Plot Types"
   ]
  },
  {
   "cell_type": "code",
   "execution_count": 171,
   "id": "3cbd991f",
   "metadata": {},
   "outputs": [],
   "source": [
    "# LineChart\n",
    "def line_chart(df_p, graph_info):\n",
    "    \n",
    "    p = px.line(df_p, x='x', y='y', color=graph_info['category'], title=graph_info['main_title'])\n",
    "    p.update_layout(legend=\n",
    "                        dict(x=0, y=1.0),\n",
    "                        xaxis=dict(showgrid=True, color='black'),\n",
    "                        yaxis=dict(showgrid=True))\n",
    "    p.update_xaxes(title_text=graph_info['x_title'])\n",
    "    p.update_yaxes(title_text=graph_info['y_title'])\n",
    "    p.layout.template = 'plotly_white'\n",
    "                   \n",
    "    return p\n",
    "\n",
    "                   \n",
    "# BarChart\n",
    "def bar_chart(df_p, graph_info):\n",
    "                   \n",
    "    p = px.bar(df_p, x='x', y='y', color=graph_info['category'], title=graph_info['main_title'])\n",
    "    p.update_layout(legend=\n",
    "                        dict(x=0, y=1.0),\n",
    "                        xaxis=dict(showgrid=True, color='black'),\n",
    "                        yaxis=dict(showgrid=True),\n",
    "                        bargap=0.3,\n",
    "                        bargroupgap=0.0)\n",
    "    p.update_xaxes(title_text=graph_info['x_title'])\n",
    "    p.update_yaxes(title_text=graph_info['y_title'])\n",
    "    p.layout.template = 'plotly_white'\n",
    "\n",
    "    return p\n",
    "\n",
    "\n",
    "# StackedBarChart\n",
    "def stacked_bar_chart(df_p, graph_info):\n",
    "\n",
    "    p = px.bar(df_p, x='x', y='y', color=graph_info['category'], title=graph_info['main_title'])\n",
    "    p.update_layout(legend=\n",
    "                        dict(x=0, y=1.0),\n",
    "                        xaxis=dict(showgrid=True, color='black'),\n",
    "                        yaxis=dict(showgrid=True),\n",
    "                        barmode='group',\n",
    "                        bargap=0.3,\n",
    "                        bargroupgap=0.0)\n",
    "    p.update_xaxes(title_text=graph_info['x_title'])\n",
    "    p.update_yaxes(title_text=graph_info['y_title'])\n",
    "    p.layout.template = 'plotly_white'\n",
    "    \n",
    "    return p\n",
    "                   \n",
    "\n",
    "# ScatterChart\n",
    "def scatter_chart(df_p, graph_info):\n",
    "    p = px.box(df_p, x='x', y='y', color=graph_info['category'], title=graph_info['main_title'])\n",
    "    # p = px.scatter(df_p, x='x', y='y', color=graph_info['category'], title=graph_info['main_title'])\n",
    "    p.update_layout(legend=\n",
    "                        dict(x=0, y=1.0),\n",
    "                        xaxis=dict(showgrid=True, color='black'),\n",
    "                        yaxis=dict(showgrid=True), \n",
    "                        yaxis_range=[-6,6])\n",
    "    p.update_xaxes(title_text=graph_info['x_title'])\n",
    "    p.update_yaxes(title_text=graph_info['y_title'])\n",
    "    p.layout.template = 'plotly_white'\n",
    "    \n",
    "    return p\n",
    "    "
   ]
  },
  {
   "cell_type": "markdown",
   "id": "8aba93ae",
   "metadata": {},
   "source": [
    "## Heavy Rail\n",
    "**TYPE 1 - PLOTS RELATED TO STATION**"
   ]
  },
  {
   "cell_type": "code",
   "execution_count": 172,
   "id": "c225632d",
   "metadata": {
    "scrolled": true
   },
   "outputs": [],
   "source": [
    "# p_hr_1a - Display real waiting time patterns (LineChart)\n",
    "def p_hr_1a(input_data):\n",
    "    \n",
    "    graph_info = {\n",
    "        'main_title': 'Tuen Ma Line (TML) Waiting Time Pattern',\n",
    "        'x_title': 'Current Time',\n",
    "        'y_title': 'Waiting Time (Minute)',\n",
    "        'category': 'route_no'\n",
    "    }\n",
    "\n",
    "    # Extract the required data\n",
    "    temp = post_req_handler(rail_type_hr, headers, input_data)\n",
    "    \n",
    "    df_p_hr_1a = pd.DataFrame(temp['dataSets'][0]['values'])\n",
    "    df_p_hr_1a['route_no'] = 'TML'\n",
    "    display(df_p_hr_1a)\n",
    "\n",
    "    # Plot the graph\n",
    "    p_hr_1a = line_chart(df_p_hr_1a, graph_info)\n",
    "    p_hr_1a.show()\n",
    "    \n",
    "    plotly.offline.plot(p_hr_1a, filename='C:/Users/Jeff Siu/Documents/FYP/test/p_hr_1a.html')\n",
    "\n",
    "\n",
    "# p_hr_1b - Count number of train arrivals (BarChart)\n",
    "def p_hr_1b(input_data):\n",
    "    \n",
    "    graph_info = {\n",
    "        'main_title': 'Tuen Ma Line (TML) Grouped Train Frequency',\n",
    "        'x_title': 'Current Time',\n",
    "        'y_title': 'Number of Arrivals',\n",
    "    }\n",
    "\n",
    "    # Extract the required data\n",
    "    temp = post_req_handler(rail_type_hr, headers, input_data)\n",
    "    \n",
    "    df_p_hr_1b = pd.DataFrame(temp['dataSets'][0]['values'])\n",
    "    df_p_hr_1b['x'] = temp['xAxis']['valueFormatter']\n",
    "    df_p_hr_1b = df_p_hr_1b.astype({'x': 'datetime64[ns]', 'y': int})\n",
    "    df_p_hr_1b['x'] = df_p_hr_1b['x'].dt.strftime('%H:%M')\n",
    "    \n",
    "    # Plot the graph\n",
    "    p_hr_1b = bar_chart(df_p_hr_1b, graph_info)\n",
    "    p_hr_1b.show()\n",
    "    \n",
    "    plotly.offline.plot(p_hr_1b, filename='C:/Users/Jeff Siu/Documents/FYP/test/p_hr_1b.html')\n",
    "    \n",
    "    \n",
    "# p_hr_1c - Display eta delay time patterns (LineChart)\n",
    "def p_hr_1c(input_data):\n",
    "\n",
    "    graph_info = {\n",
    "        'main_title': 'Tuen Ma Line (TML) ETA Delay Pattern',\n",
    "        'x_title': 'Current Time',\n",
    "        'y_title': 'Delay Time (Minute)',\n",
    "        'category': 'dummy'\n",
    "    }\n",
    "    \n",
    "    # Extract the required data\n",
    "    temp = post_req_handler(rail_type_hr, headers, input_data)\n",
    "    \n",
    "    df_p_hr_1c = pd.DataFrame(temp['dataSets'][0]['values'])\n",
    "    df_p_hr_1c['dummy'] = 1\n",
    "    \n",
    "    # Plot the graph\n",
    "    p_hr_1c = line_chart(df_p_hr_1c, graph_info)\n",
    "    p_hr_1c.show()\n",
    "    \n",
    "    plotly.offline.plot(p_hr_1c, filename='C:/Users/Jeff Siu/Documents/FYP/test/p_hr_1c.html')\n",
    "    \n",
    "\n",
    "# p_hr_1d - Display real delay time patterns (ScatterChart)\n",
    "def p_hr_1d(input_data):\n",
    "\n",
    "    graph_info = {\n",
    "        'main_title': 'Tuen Ma Line (TML) Train Delay per Arrival',\n",
    "        'x_title': 'Time Period',\n",
    "        'y_title': 'Delay Time (Minute)',\n",
    "        'category': 'dummy'\n",
    "    }\n",
    "    \n",
    "    # Extract the required data\n",
    "    temp = post_req_handler(rail_type_hr, headers, input_data)\n",
    "    \n",
    "    df_p_hr_1d = pd.DataFrame(temp['dataSets'][0]['values'])\n",
    "    df_p_hr_1d = df_p_hr_1d.astype({'x': 'datetime64[ns]', 'y': int})\n",
    "    df_p_hr_1d['x'] = df_p_hr_1d['x'].dt.strftime('%H:%M')\n",
    "    df_p_hr_1d['dummy'] = 1\n",
    "\n",
    "    # Plot the graph\n",
    "    p_hr_1d = scatter_chart(df_p_hr_1d, graph_info)\n",
    "    p_hr_1d.show()\n",
    "    \n",
    "    plotly.offline.plot(p_hr_1d, filename='C:/Users/Jeff Siu/Documents/FYP/test/p_hr_1d.html')\n"
   ]
  },
  {
   "cell_type": "markdown",
   "id": "b96aabb0",
   "metadata": {},
   "source": [
    "## LIGHT-RAIL\n",
    "\n",
    "**TYPE 1 - PLOTS RELATED TO STATION**"
   ]
  },
  {
   "cell_type": "code",
   "execution_count": 173,
   "id": "c3dfb935",
   "metadata": {},
   "outputs": [],
   "source": [
    "# p_lr_1a - Display real waiting time patterns (LineChart)\n",
    "def p_lr_1a(input_data):\n",
    "    \n",
    "    graph_info = {\n",
    "        'main_title': 'Light Rail Waiting Time Pattern',\n",
    "        'x_title': 'Current Time',\n",
    "        'y_title': 'Waiting Time (Minute)',\n",
    "        'category': 'route_no'\n",
    "    }\n",
    "\n",
    "    # Extract the required data\n",
    "    temp = post_req_handler(rail_type_lr, headers, input_data)\n",
    "    \n",
    "    dfs = []\n",
    "    \n",
    "    for i in range(len(temp['dataSets'])):\n",
    "        df_temp = pd.DataFrame(temp['dataSets'][i]['values'])\n",
    "        df_temp['route_no'] = temp['dataSets'][i]['label']\n",
    "        dfs.append(df_temp)\n",
    "    \n",
    "    df_p_lr_1a = pd.concat(dfs)\n",
    "    df_p_lr_1a = df_p_lr_1a.astype({'x': 'datetime64[ns]', 'y': int, 'route_no': str})\n",
    "\n",
    "    # Plot the graph\n",
    "    p_lr_1a = line_chart(df_p_lr_1a, graph_info)\n",
    "    p_lr_1a.show()\n",
    "    \n",
    "    plotly.offline.plot(p_lr_1a, filename='C:/Users/Jeff Siu/Documents/FYP/test/p_lr_1a.html')\n",
    "\n",
    "\n",
    "# p_lr_1b - Count number of train arrivals (StackedBarChart)\n",
    "def p_lr_1b(input_data):\n",
    "    \n",
    "    graph_info = {\n",
    "        'main_title': 'Light Rail Train Arrivals Count',\n",
    "        'x_title': 'Current Time',\n",
    "        'y_title': 'Number of Arrivals',\n",
    "        'category': 'route_no'\n",
    "    }\n",
    "\n",
    "    # Extract the required data\n",
    "    temp = post_req_handler(rail_type_lr, headers, input_data)\n",
    "    \n",
    "    dfs = []\n",
    "    \n",
    "    for i in range(len(temp['dataSets'][0]['values'])):\n",
    "        df_temp = pd.DataFrame()\n",
    "        df_temp['y'] = temp['dataSets'][0]['values'][i]['y']\n",
    "        df_temp['x'] = temp['xAxis']['valueFormatter']\n",
    "        df_temp = df_temp.astype({'x': 'datetime64[ns]', 'y': int})\n",
    "        df_temp['x'] = df_temp['x'].dt.strftime('%H:%M')\n",
    "        df_temp['route_no'] = temp['dataSets'][0]['config']['stackLabels'][i]\n",
    "        \n",
    "        dfs.append(df_temp)\n",
    "    \n",
    "    df_p_lr_1b = pd.concat(dfs)\n",
    "\n",
    "    # Plot the graph\n",
    "    p_lr_1b = stacked_bar_chart(df_p_lr_1b, graph_info)\n",
    "    p_lr_1b.show()\n",
    "    \n",
    "    plotly.offline.plot(p_lr_1b, filename='C:/Users/Jeff Siu/Documents/FYP/test/p_lr_1b.html')\n",
    "    \n",
    "    \n",
    "# p_lr_1c - Display eta delay time patterns (LineChart)\n",
    "def p_lr_1c(input_data):\n",
    "\n",
    "    graph_info = {\n",
    "        'main_title': 'Light Rail ETA Delay Pattern',\n",
    "        'x_title': 'Current Time',\n",
    "        'y_title': 'Delay Time (Minute)',\n",
    "        'category': 'route_no'\n",
    "    }\n",
    "    \n",
    "    # Extract the required data\n",
    "    temp = post_req_handler(rail_type_lr, headers, input_data)\n",
    "    \n",
    "    dfs = []\n",
    "    \n",
    "    for i in range(len(temp['dataSets'])):\n",
    "        df_temp = pd.DataFrame(temp['dataSets'][i]['values'])\n",
    "        df_temp['route_no'] = temp['dataSets'][i]['label']\n",
    "        dfs.append(df_temp)\n",
    "    \n",
    "    df_p_lr_1c = pd.concat(dfs)\n",
    "    df_p_lr_1c = df_p_lr_1c.astype({'x': 'datetime64[ns]', 'y': int, 'route_no': str})\n",
    "\n",
    "    # Plot the graph\n",
    "    p_lr_1c = line_chart(df_p_lr_1c, graph_info)\n",
    "    p_lr_1c.show()\n",
    "    \n",
    "    plotly.offline.plot(p_lr_1c, filename='C:/Users/Jeff Siu/Documents/FYP/test/p_lr_1c.html')\n",
    "\n",
    "\n",
    "# p_lr_1d - Display real delay time patterns (ScatterChart)\n",
    "def p_lr_1d(input_data):\n",
    "    \n",
    "    graph_info = {\n",
    "        'main_title': 'Light Rail Train Delay per Arrival',\n",
    "        'x_title': 'Current Time',\n",
    "        'y_title': 'Delay Time (Minute)',\n",
    "        'category': 'route_no'\n",
    "    }\n",
    "\n",
    "    # Extract the required data\n",
    "    temp = post_req_handler(rail_type_lr, headers, input_data)\n",
    "    \n",
    "    dfs = []\n",
    "    \n",
    "    for i in range(len(temp['dataSets'])):\n",
    "        df_temp = pd.DataFrame(temp['dataSets'][i]['values'])\n",
    "        df_temp['route_no'] = temp['dataSets'][i]['label']\n",
    "        dfs.append(df_temp)\n",
    "    \n",
    "    df_p_lr_1d = pd.concat(dfs)\n",
    "        \n",
    "    # Plot the graph\n",
    "    p_lr_1d = scatter_chart(df_p_lr_1d, graph_info)\n",
    "    p_lr_1d.show()\n",
    "    \n",
    "    plotly.offline.plot(p_lr_1d, filename='C:/Users/Jeff Siu/Documents/FYP/test/p_lr_1d.html')\n"
   ]
  },
  {
   "cell_type": "markdown",
   "id": "48746195",
   "metadata": {},
   "source": [
    "**TYPE 2 - PLOTS RELATED TO TRIPS BETWEEN TWO STATIONS**"
   ]
  },
  {
   "cell_type": "code",
   "execution_count": 174,
   "id": "05a38100",
   "metadata": {},
   "outputs": [],
   "source": [
    "# p_lr_2a - Display combined waiting time of ALL available routes to a station (LineChart)\n",
    "def p_lr_2a(input_data):\n",
    "\n",
    "    graph_info = {\n",
    "        'main_title': 'TML Waiting Time Pattern',\n",
    "        'x_title': 'Current Time',\n",
    "        'y_title': 'Waiting Time',\n",
    "        'category': 'dummy'\n",
    "    }\n",
    "    \n",
    "    # Extract the required data\n",
    "    temp = post_req_handler(rail_type_lr, headers, input_data)\n",
    "    \n",
    "    df_p_lr_2a = pd.DataFrame(temp['dataSets'][0]['values'])\n",
    "    df_p_lr_2a['dummy'] = 1\n",
    "\n",
    "    # Plot the graph\n",
    "    p_lr_2a = line_chart(df_p_lr_2a, graph_info)\n",
    "    p_lr_2a.show()\n",
    "    \n",
    "    plotly.offline.plot(p_lr_2a, filename='C:/Users/Jeff Siu/Documents/FYP/test/p_lr_2a.html')"
   ]
  },
  {
   "cell_type": "markdown",
   "id": "b0495c43",
   "metadata": {},
   "source": [
    "## Plot Examples -- Have fun here!"
   ]
  },
  {
   "cell_type": "code",
   "execution_count": 175,
   "id": "b739053b",
   "metadata": {
    "scrolled": true
   },
   "outputs": [
    {
     "data": {
      "application/vnd.plotly.v1+json": {
       "config": {
        "plotlyServerURL": "https://plot.ly"
       },
       "data": [
        {
         "alignmentgroup": "True",
         "hovertemplate": "dummy=1<br>x=%{x}<br>y=%{y}<extra></extra>",
         "legendgroup": "1",
         "marker": {
          "color": "#636efa"
         },
         "name": "1",
         "notched": false,
         "offsetgroup": "1",
         "orientation": "v",
         "showlegend": true,
         "type": "box",
         "x": [
          "16:00",
          "16:00",
          "16:00",
          "16:00",
          "16:30",
          "16:30",
          "16:30",
          "16:30",
          "16:30",
          "17:00",
          "17:00",
          "17:00",
          "17:00",
          "17:30",
          "17:30",
          "17:30",
          "17:30",
          "17:30",
          "17:30",
          "17:30",
          "17:30",
          "17:30",
          "18:00",
          "18:00",
          "18:00",
          "18:00",
          "18:00",
          "18:00",
          "18:00",
          "18:00",
          "18:30",
          "18:30",
          "18:30",
          "18:30",
          "18:30",
          "18:30",
          "18:30",
          "18:30",
          "18:30",
          "19:00",
          "19:00",
          "19:00",
          "19:00",
          "19:00",
          "19:00",
          "19:00",
          "19:00",
          "19:30",
          "19:30",
          "19:30",
          "19:30",
          "19:30",
          "19:30",
          "19:30",
          "19:30",
          "19:30"
         ],
         "x0": " ",
         "xaxis": "x",
         "y": [
          0,
          0,
          0,
          0,
          0,
          0,
          -1,
          0,
          1,
          0,
          0,
          1,
          2,
          0,
          0,
          0,
          0,
          -1,
          0,
          1,
          0,
          0,
          0,
          1,
          0,
          0,
          -1,
          0,
          0,
          0,
          0,
          0,
          0,
          1,
          0,
          0,
          0,
          -1,
          -1,
          0,
          0,
          -1,
          0,
          0,
          0,
          0,
          0,
          0,
          0,
          1,
          0,
          0,
          0,
          0,
          0,
          0
         ],
         "y0": " ",
         "yaxis": "y"
        }
       ],
       "layout": {
        "boxmode": "group",
        "legend": {
         "title": {
          "text": "dummy"
         },
         "tracegroupgap": 0,
         "x": 0,
         "y": 1
        },
        "template": {
         "data": {
          "bar": [
           {
            "error_x": {
             "color": "#2a3f5f"
            },
            "error_y": {
             "color": "#2a3f5f"
            },
            "marker": {
             "line": {
              "color": "white",
              "width": 0.5
             },
             "pattern": {
              "fillmode": "overlay",
              "size": 10,
              "solidity": 0.2
             }
            },
            "type": "bar"
           }
          ],
          "barpolar": [
           {
            "marker": {
             "line": {
              "color": "white",
              "width": 0.5
             },
             "pattern": {
              "fillmode": "overlay",
              "size": 10,
              "solidity": 0.2
             }
            },
            "type": "barpolar"
           }
          ],
          "carpet": [
           {
            "aaxis": {
             "endlinecolor": "#2a3f5f",
             "gridcolor": "#C8D4E3",
             "linecolor": "#C8D4E3",
             "minorgridcolor": "#C8D4E3",
             "startlinecolor": "#2a3f5f"
            },
            "baxis": {
             "endlinecolor": "#2a3f5f",
             "gridcolor": "#C8D4E3",
             "linecolor": "#C8D4E3",
             "minorgridcolor": "#C8D4E3",
             "startlinecolor": "#2a3f5f"
            },
            "type": "carpet"
           }
          ],
          "choropleth": [
           {
            "colorbar": {
             "outlinewidth": 0,
             "ticks": ""
            },
            "type": "choropleth"
           }
          ],
          "contour": [
           {
            "colorbar": {
             "outlinewidth": 0,
             "ticks": ""
            },
            "colorscale": [
             [
              0,
              "#0d0887"
             ],
             [
              0.1111111111111111,
              "#46039f"
             ],
             [
              0.2222222222222222,
              "#7201a8"
             ],
             [
              0.3333333333333333,
              "#9c179e"
             ],
             [
              0.4444444444444444,
              "#bd3786"
             ],
             [
              0.5555555555555556,
              "#d8576b"
             ],
             [
              0.6666666666666666,
              "#ed7953"
             ],
             [
              0.7777777777777778,
              "#fb9f3a"
             ],
             [
              0.8888888888888888,
              "#fdca26"
             ],
             [
              1,
              "#f0f921"
             ]
            ],
            "type": "contour"
           }
          ],
          "contourcarpet": [
           {
            "colorbar": {
             "outlinewidth": 0,
             "ticks": ""
            },
            "type": "contourcarpet"
           }
          ],
          "heatmap": [
           {
            "colorbar": {
             "outlinewidth": 0,
             "ticks": ""
            },
            "colorscale": [
             [
              0,
              "#0d0887"
             ],
             [
              0.1111111111111111,
              "#46039f"
             ],
             [
              0.2222222222222222,
              "#7201a8"
             ],
             [
              0.3333333333333333,
              "#9c179e"
             ],
             [
              0.4444444444444444,
              "#bd3786"
             ],
             [
              0.5555555555555556,
              "#d8576b"
             ],
             [
              0.6666666666666666,
              "#ed7953"
             ],
             [
              0.7777777777777778,
              "#fb9f3a"
             ],
             [
              0.8888888888888888,
              "#fdca26"
             ],
             [
              1,
              "#f0f921"
             ]
            ],
            "type": "heatmap"
           }
          ],
          "heatmapgl": [
           {
            "colorbar": {
             "outlinewidth": 0,
             "ticks": ""
            },
            "colorscale": [
             [
              0,
              "#0d0887"
             ],
             [
              0.1111111111111111,
              "#46039f"
             ],
             [
              0.2222222222222222,
              "#7201a8"
             ],
             [
              0.3333333333333333,
              "#9c179e"
             ],
             [
              0.4444444444444444,
              "#bd3786"
             ],
             [
              0.5555555555555556,
              "#d8576b"
             ],
             [
              0.6666666666666666,
              "#ed7953"
             ],
             [
              0.7777777777777778,
              "#fb9f3a"
             ],
             [
              0.8888888888888888,
              "#fdca26"
             ],
             [
              1,
              "#f0f921"
             ]
            ],
            "type": "heatmapgl"
           }
          ],
          "histogram": [
           {
            "marker": {
             "pattern": {
              "fillmode": "overlay",
              "size": 10,
              "solidity": 0.2
             }
            },
            "type": "histogram"
           }
          ],
          "histogram2d": [
           {
            "colorbar": {
             "outlinewidth": 0,
             "ticks": ""
            },
            "colorscale": [
             [
              0,
              "#0d0887"
             ],
             [
              0.1111111111111111,
              "#46039f"
             ],
             [
              0.2222222222222222,
              "#7201a8"
             ],
             [
              0.3333333333333333,
              "#9c179e"
             ],
             [
              0.4444444444444444,
              "#bd3786"
             ],
             [
              0.5555555555555556,
              "#d8576b"
             ],
             [
              0.6666666666666666,
              "#ed7953"
             ],
             [
              0.7777777777777778,
              "#fb9f3a"
             ],
             [
              0.8888888888888888,
              "#fdca26"
             ],
             [
              1,
              "#f0f921"
             ]
            ],
            "type": "histogram2d"
           }
          ],
          "histogram2dcontour": [
           {
            "colorbar": {
             "outlinewidth": 0,
             "ticks": ""
            },
            "colorscale": [
             [
              0,
              "#0d0887"
             ],
             [
              0.1111111111111111,
              "#46039f"
             ],
             [
              0.2222222222222222,
              "#7201a8"
             ],
             [
              0.3333333333333333,
              "#9c179e"
             ],
             [
              0.4444444444444444,
              "#bd3786"
             ],
             [
              0.5555555555555556,
              "#d8576b"
             ],
             [
              0.6666666666666666,
              "#ed7953"
             ],
             [
              0.7777777777777778,
              "#fb9f3a"
             ],
             [
              0.8888888888888888,
              "#fdca26"
             ],
             [
              1,
              "#f0f921"
             ]
            ],
            "type": "histogram2dcontour"
           }
          ],
          "mesh3d": [
           {
            "colorbar": {
             "outlinewidth": 0,
             "ticks": ""
            },
            "type": "mesh3d"
           }
          ],
          "parcoords": [
           {
            "line": {
             "colorbar": {
              "outlinewidth": 0,
              "ticks": ""
             }
            },
            "type": "parcoords"
           }
          ],
          "pie": [
           {
            "automargin": true,
            "type": "pie"
           }
          ],
          "scatter": [
           {
            "fillpattern": {
             "fillmode": "overlay",
             "size": 10,
             "solidity": 0.2
            },
            "type": "scatter"
           }
          ],
          "scatter3d": [
           {
            "line": {
             "colorbar": {
              "outlinewidth": 0,
              "ticks": ""
             }
            },
            "marker": {
             "colorbar": {
              "outlinewidth": 0,
              "ticks": ""
             }
            },
            "type": "scatter3d"
           }
          ],
          "scattercarpet": [
           {
            "marker": {
             "colorbar": {
              "outlinewidth": 0,
              "ticks": ""
             }
            },
            "type": "scattercarpet"
           }
          ],
          "scattergeo": [
           {
            "marker": {
             "colorbar": {
              "outlinewidth": 0,
              "ticks": ""
             }
            },
            "type": "scattergeo"
           }
          ],
          "scattergl": [
           {
            "marker": {
             "colorbar": {
              "outlinewidth": 0,
              "ticks": ""
             }
            },
            "type": "scattergl"
           }
          ],
          "scattermapbox": [
           {
            "marker": {
             "colorbar": {
              "outlinewidth": 0,
              "ticks": ""
             }
            },
            "type": "scattermapbox"
           }
          ],
          "scatterpolar": [
           {
            "marker": {
             "colorbar": {
              "outlinewidth": 0,
              "ticks": ""
             }
            },
            "type": "scatterpolar"
           }
          ],
          "scatterpolargl": [
           {
            "marker": {
             "colorbar": {
              "outlinewidth": 0,
              "ticks": ""
             }
            },
            "type": "scatterpolargl"
           }
          ],
          "scatterternary": [
           {
            "marker": {
             "colorbar": {
              "outlinewidth": 0,
              "ticks": ""
             }
            },
            "type": "scatterternary"
           }
          ],
          "surface": [
           {
            "colorbar": {
             "outlinewidth": 0,
             "ticks": ""
            },
            "colorscale": [
             [
              0,
              "#0d0887"
             ],
             [
              0.1111111111111111,
              "#46039f"
             ],
             [
              0.2222222222222222,
              "#7201a8"
             ],
             [
              0.3333333333333333,
              "#9c179e"
             ],
             [
              0.4444444444444444,
              "#bd3786"
             ],
             [
              0.5555555555555556,
              "#d8576b"
             ],
             [
              0.6666666666666666,
              "#ed7953"
             ],
             [
              0.7777777777777778,
              "#fb9f3a"
             ],
             [
              0.8888888888888888,
              "#fdca26"
             ],
             [
              1,
              "#f0f921"
             ]
            ],
            "type": "surface"
           }
          ],
          "table": [
           {
            "cells": {
             "fill": {
              "color": "#EBF0F8"
             },
             "line": {
              "color": "white"
             }
            },
            "header": {
             "fill": {
              "color": "#C8D4E3"
             },
             "line": {
              "color": "white"
             }
            },
            "type": "table"
           }
          ]
         },
         "layout": {
          "annotationdefaults": {
           "arrowcolor": "#2a3f5f",
           "arrowhead": 0,
           "arrowwidth": 1
          },
          "autotypenumbers": "strict",
          "coloraxis": {
           "colorbar": {
            "outlinewidth": 0,
            "ticks": ""
           }
          },
          "colorscale": {
           "diverging": [
            [
             0,
             "#8e0152"
            ],
            [
             0.1,
             "#c51b7d"
            ],
            [
             0.2,
             "#de77ae"
            ],
            [
             0.3,
             "#f1b6da"
            ],
            [
             0.4,
             "#fde0ef"
            ],
            [
             0.5,
             "#f7f7f7"
            ],
            [
             0.6,
             "#e6f5d0"
            ],
            [
             0.7,
             "#b8e186"
            ],
            [
             0.8,
             "#7fbc41"
            ],
            [
             0.9,
             "#4d9221"
            ],
            [
             1,
             "#276419"
            ]
           ],
           "sequential": [
            [
             0,
             "#0d0887"
            ],
            [
             0.1111111111111111,
             "#46039f"
            ],
            [
             0.2222222222222222,
             "#7201a8"
            ],
            [
             0.3333333333333333,
             "#9c179e"
            ],
            [
             0.4444444444444444,
             "#bd3786"
            ],
            [
             0.5555555555555556,
             "#d8576b"
            ],
            [
             0.6666666666666666,
             "#ed7953"
            ],
            [
             0.7777777777777778,
             "#fb9f3a"
            ],
            [
             0.8888888888888888,
             "#fdca26"
            ],
            [
             1,
             "#f0f921"
            ]
           ],
           "sequentialminus": [
            [
             0,
             "#0d0887"
            ],
            [
             0.1111111111111111,
             "#46039f"
            ],
            [
             0.2222222222222222,
             "#7201a8"
            ],
            [
             0.3333333333333333,
             "#9c179e"
            ],
            [
             0.4444444444444444,
             "#bd3786"
            ],
            [
             0.5555555555555556,
             "#d8576b"
            ],
            [
             0.6666666666666666,
             "#ed7953"
            ],
            [
             0.7777777777777778,
             "#fb9f3a"
            ],
            [
             0.8888888888888888,
             "#fdca26"
            ],
            [
             1,
             "#f0f921"
            ]
           ]
          },
          "colorway": [
           "#636efa",
           "#EF553B",
           "#00cc96",
           "#ab63fa",
           "#FFA15A",
           "#19d3f3",
           "#FF6692",
           "#B6E880",
           "#FF97FF",
           "#FECB52"
          ],
          "font": {
           "color": "#2a3f5f"
          },
          "geo": {
           "bgcolor": "white",
           "lakecolor": "white",
           "landcolor": "white",
           "showlakes": true,
           "showland": true,
           "subunitcolor": "#C8D4E3"
          },
          "hoverlabel": {
           "align": "left"
          },
          "hovermode": "closest",
          "mapbox": {
           "style": "light"
          },
          "paper_bgcolor": "white",
          "plot_bgcolor": "white",
          "polar": {
           "angularaxis": {
            "gridcolor": "#EBF0F8",
            "linecolor": "#EBF0F8",
            "ticks": ""
           },
           "bgcolor": "white",
           "radialaxis": {
            "gridcolor": "#EBF0F8",
            "linecolor": "#EBF0F8",
            "ticks": ""
           }
          },
          "scene": {
           "xaxis": {
            "backgroundcolor": "white",
            "gridcolor": "#DFE8F3",
            "gridwidth": 2,
            "linecolor": "#EBF0F8",
            "showbackground": true,
            "ticks": "",
            "zerolinecolor": "#EBF0F8"
           },
           "yaxis": {
            "backgroundcolor": "white",
            "gridcolor": "#DFE8F3",
            "gridwidth": 2,
            "linecolor": "#EBF0F8",
            "showbackground": true,
            "ticks": "",
            "zerolinecolor": "#EBF0F8"
           },
           "zaxis": {
            "backgroundcolor": "white",
            "gridcolor": "#DFE8F3",
            "gridwidth": 2,
            "linecolor": "#EBF0F8",
            "showbackground": true,
            "ticks": "",
            "zerolinecolor": "#EBF0F8"
           }
          },
          "shapedefaults": {
           "line": {
            "color": "#2a3f5f"
           }
          },
          "ternary": {
           "aaxis": {
            "gridcolor": "#DFE8F3",
            "linecolor": "#A2B1C6",
            "ticks": ""
           },
           "baxis": {
            "gridcolor": "#DFE8F3",
            "linecolor": "#A2B1C6",
            "ticks": ""
           },
           "bgcolor": "white",
           "caxis": {
            "gridcolor": "#DFE8F3",
            "linecolor": "#A2B1C6",
            "ticks": ""
           }
          },
          "title": {
           "x": 0.05
          },
          "xaxis": {
           "automargin": true,
           "gridcolor": "#EBF0F8",
           "linecolor": "#EBF0F8",
           "ticks": "",
           "title": {
            "standoff": 15
           },
           "zerolinecolor": "#EBF0F8",
           "zerolinewidth": 2
          },
          "yaxis": {
           "automargin": true,
           "gridcolor": "#EBF0F8",
           "linecolor": "#EBF0F8",
           "ticks": "",
           "title": {
            "standoff": 15
           },
           "zerolinecolor": "#EBF0F8",
           "zerolinewidth": 2
          }
         }
        },
        "title": {
         "text": "Tuen Ma Line (TML) Train Delay per Arrival"
        },
        "xaxis": {
         "anchor": "y",
         "color": "black",
         "domain": [
          0,
          1
         ],
         "showgrid": true,
         "title": {
          "text": "Time Period"
         }
        },
        "yaxis": {
         "anchor": "x",
         "domain": [
          0,
          1
         ],
         "range": [
          -6,
          6
         ],
         "showgrid": true,
         "title": {
          "text": "Delay Time (Minute)"
         }
        }
       }
      },
      "text/html": [
       "<div>                            <div id=\"818c809f-58aa-4e2e-b458-8b14edaff226\" class=\"plotly-graph-div\" style=\"height:525px; width:100%;\"></div>            <script type=\"text/javascript\">                require([\"plotly\"], function(Plotly) {                    window.PLOTLYENV=window.PLOTLYENV || {};                                    if (document.getElementById(\"818c809f-58aa-4e2e-b458-8b14edaff226\")) {                    Plotly.newPlot(                        \"818c809f-58aa-4e2e-b458-8b14edaff226\",                        [{\"alignmentgroup\":\"True\",\"hovertemplate\":\"dummy=1<br>x=%{x}<br>y=%{y}<extra></extra>\",\"legendgroup\":\"1\",\"marker\":{\"color\":\"#636efa\"},\"name\":\"1\",\"notched\":false,\"offsetgroup\":\"1\",\"orientation\":\"v\",\"showlegend\":true,\"x\":[\"16:00\",\"16:00\",\"16:00\",\"16:00\",\"16:30\",\"16:30\",\"16:30\",\"16:30\",\"16:30\",\"17:00\",\"17:00\",\"17:00\",\"17:00\",\"17:30\",\"17:30\",\"17:30\",\"17:30\",\"17:30\",\"17:30\",\"17:30\",\"17:30\",\"17:30\",\"18:00\",\"18:00\",\"18:00\",\"18:00\",\"18:00\",\"18:00\",\"18:00\",\"18:00\",\"18:30\",\"18:30\",\"18:30\",\"18:30\",\"18:30\",\"18:30\",\"18:30\",\"18:30\",\"18:30\",\"19:00\",\"19:00\",\"19:00\",\"19:00\",\"19:00\",\"19:00\",\"19:00\",\"19:00\",\"19:30\",\"19:30\",\"19:30\",\"19:30\",\"19:30\",\"19:30\",\"19:30\",\"19:30\",\"19:30\"],\"x0\":\" \",\"xaxis\":\"x\",\"y\":[0,0,0,0,0,0,-1,0,1,0,0,1,2,0,0,0,0,-1,0,1,0,0,0,1,0,0,-1,0,0,0,0,0,0,1,0,0,0,-1,-1,0,0,-1,0,0,0,0,0,0,0,1,0,0,0,0,0,0],\"y0\":\" \",\"yaxis\":\"y\",\"type\":\"box\"}],                        {\"template\":{\"data\":{\"barpolar\":[{\"marker\":{\"line\":{\"color\":\"white\",\"width\":0.5},\"pattern\":{\"fillmode\":\"overlay\",\"size\":10,\"solidity\":0.2}},\"type\":\"barpolar\"}],\"bar\":[{\"error_x\":{\"color\":\"#2a3f5f\"},\"error_y\":{\"color\":\"#2a3f5f\"},\"marker\":{\"line\":{\"color\":\"white\",\"width\":0.5},\"pattern\":{\"fillmode\":\"overlay\",\"size\":10,\"solidity\":0.2}},\"type\":\"bar\"}],\"carpet\":[{\"aaxis\":{\"endlinecolor\":\"#2a3f5f\",\"gridcolor\":\"#C8D4E3\",\"linecolor\":\"#C8D4E3\",\"minorgridcolor\":\"#C8D4E3\",\"startlinecolor\":\"#2a3f5f\"},\"baxis\":{\"endlinecolor\":\"#2a3f5f\",\"gridcolor\":\"#C8D4E3\",\"linecolor\":\"#C8D4E3\",\"minorgridcolor\":\"#C8D4E3\",\"startlinecolor\":\"#2a3f5f\"},\"type\":\"carpet\"}],\"choropleth\":[{\"colorbar\":{\"outlinewidth\":0,\"ticks\":\"\"},\"type\":\"choropleth\"}],\"contourcarpet\":[{\"colorbar\":{\"outlinewidth\":0,\"ticks\":\"\"},\"type\":\"contourcarpet\"}],\"contour\":[{\"colorbar\":{\"outlinewidth\":0,\"ticks\":\"\"},\"colorscale\":[[0.0,\"#0d0887\"],[0.1111111111111111,\"#46039f\"],[0.2222222222222222,\"#7201a8\"],[0.3333333333333333,\"#9c179e\"],[0.4444444444444444,\"#bd3786\"],[0.5555555555555556,\"#d8576b\"],[0.6666666666666666,\"#ed7953\"],[0.7777777777777778,\"#fb9f3a\"],[0.8888888888888888,\"#fdca26\"],[1.0,\"#f0f921\"]],\"type\":\"contour\"}],\"heatmapgl\":[{\"colorbar\":{\"outlinewidth\":0,\"ticks\":\"\"},\"colorscale\":[[0.0,\"#0d0887\"],[0.1111111111111111,\"#46039f\"],[0.2222222222222222,\"#7201a8\"],[0.3333333333333333,\"#9c179e\"],[0.4444444444444444,\"#bd3786\"],[0.5555555555555556,\"#d8576b\"],[0.6666666666666666,\"#ed7953\"],[0.7777777777777778,\"#fb9f3a\"],[0.8888888888888888,\"#fdca26\"],[1.0,\"#f0f921\"]],\"type\":\"heatmapgl\"}],\"heatmap\":[{\"colorbar\":{\"outlinewidth\":0,\"ticks\":\"\"},\"colorscale\":[[0.0,\"#0d0887\"],[0.1111111111111111,\"#46039f\"],[0.2222222222222222,\"#7201a8\"],[0.3333333333333333,\"#9c179e\"],[0.4444444444444444,\"#bd3786\"],[0.5555555555555556,\"#d8576b\"],[0.6666666666666666,\"#ed7953\"],[0.7777777777777778,\"#fb9f3a\"],[0.8888888888888888,\"#fdca26\"],[1.0,\"#f0f921\"]],\"type\":\"heatmap\"}],\"histogram2dcontour\":[{\"colorbar\":{\"outlinewidth\":0,\"ticks\":\"\"},\"colorscale\":[[0.0,\"#0d0887\"],[0.1111111111111111,\"#46039f\"],[0.2222222222222222,\"#7201a8\"],[0.3333333333333333,\"#9c179e\"],[0.4444444444444444,\"#bd3786\"],[0.5555555555555556,\"#d8576b\"],[0.6666666666666666,\"#ed7953\"],[0.7777777777777778,\"#fb9f3a\"],[0.8888888888888888,\"#fdca26\"],[1.0,\"#f0f921\"]],\"type\":\"histogram2dcontour\"}],\"histogram2d\":[{\"colorbar\":{\"outlinewidth\":0,\"ticks\":\"\"},\"colorscale\":[[0.0,\"#0d0887\"],[0.1111111111111111,\"#46039f\"],[0.2222222222222222,\"#7201a8\"],[0.3333333333333333,\"#9c179e\"],[0.4444444444444444,\"#bd3786\"],[0.5555555555555556,\"#d8576b\"],[0.6666666666666666,\"#ed7953\"],[0.7777777777777778,\"#fb9f3a\"],[0.8888888888888888,\"#fdca26\"],[1.0,\"#f0f921\"]],\"type\":\"histogram2d\"}],\"histogram\":[{\"marker\":{\"pattern\":{\"fillmode\":\"overlay\",\"size\":10,\"solidity\":0.2}},\"type\":\"histogram\"}],\"mesh3d\":[{\"colorbar\":{\"outlinewidth\":0,\"ticks\":\"\"},\"type\":\"mesh3d\"}],\"parcoords\":[{\"line\":{\"colorbar\":{\"outlinewidth\":0,\"ticks\":\"\"}},\"type\":\"parcoords\"}],\"pie\":[{\"automargin\":true,\"type\":\"pie\"}],\"scatter3d\":[{\"line\":{\"colorbar\":{\"outlinewidth\":0,\"ticks\":\"\"}},\"marker\":{\"colorbar\":{\"outlinewidth\":0,\"ticks\":\"\"}},\"type\":\"scatter3d\"}],\"scattercarpet\":[{\"marker\":{\"colorbar\":{\"outlinewidth\":0,\"ticks\":\"\"}},\"type\":\"scattercarpet\"}],\"scattergeo\":[{\"marker\":{\"colorbar\":{\"outlinewidth\":0,\"ticks\":\"\"}},\"type\":\"scattergeo\"}],\"scattergl\":[{\"marker\":{\"colorbar\":{\"outlinewidth\":0,\"ticks\":\"\"}},\"type\":\"scattergl\"}],\"scattermapbox\":[{\"marker\":{\"colorbar\":{\"outlinewidth\":0,\"ticks\":\"\"}},\"type\":\"scattermapbox\"}],\"scatterpolargl\":[{\"marker\":{\"colorbar\":{\"outlinewidth\":0,\"ticks\":\"\"}},\"type\":\"scatterpolargl\"}],\"scatterpolar\":[{\"marker\":{\"colorbar\":{\"outlinewidth\":0,\"ticks\":\"\"}},\"type\":\"scatterpolar\"}],\"scatter\":[{\"fillpattern\":{\"fillmode\":\"overlay\",\"size\":10,\"solidity\":0.2},\"type\":\"scatter\"}],\"scatterternary\":[{\"marker\":{\"colorbar\":{\"outlinewidth\":0,\"ticks\":\"\"}},\"type\":\"scatterternary\"}],\"surface\":[{\"colorbar\":{\"outlinewidth\":0,\"ticks\":\"\"},\"colorscale\":[[0.0,\"#0d0887\"],[0.1111111111111111,\"#46039f\"],[0.2222222222222222,\"#7201a8\"],[0.3333333333333333,\"#9c179e\"],[0.4444444444444444,\"#bd3786\"],[0.5555555555555556,\"#d8576b\"],[0.6666666666666666,\"#ed7953\"],[0.7777777777777778,\"#fb9f3a\"],[0.8888888888888888,\"#fdca26\"],[1.0,\"#f0f921\"]],\"type\":\"surface\"}],\"table\":[{\"cells\":{\"fill\":{\"color\":\"#EBF0F8\"},\"line\":{\"color\":\"white\"}},\"header\":{\"fill\":{\"color\":\"#C8D4E3\"},\"line\":{\"color\":\"white\"}},\"type\":\"table\"}]},\"layout\":{\"annotationdefaults\":{\"arrowcolor\":\"#2a3f5f\",\"arrowhead\":0,\"arrowwidth\":1},\"autotypenumbers\":\"strict\",\"coloraxis\":{\"colorbar\":{\"outlinewidth\":0,\"ticks\":\"\"}},\"colorscale\":{\"diverging\":[[0,\"#8e0152\"],[0.1,\"#c51b7d\"],[0.2,\"#de77ae\"],[0.3,\"#f1b6da\"],[0.4,\"#fde0ef\"],[0.5,\"#f7f7f7\"],[0.6,\"#e6f5d0\"],[0.7,\"#b8e186\"],[0.8,\"#7fbc41\"],[0.9,\"#4d9221\"],[1,\"#276419\"]],\"sequential\":[[0.0,\"#0d0887\"],[0.1111111111111111,\"#46039f\"],[0.2222222222222222,\"#7201a8\"],[0.3333333333333333,\"#9c179e\"],[0.4444444444444444,\"#bd3786\"],[0.5555555555555556,\"#d8576b\"],[0.6666666666666666,\"#ed7953\"],[0.7777777777777778,\"#fb9f3a\"],[0.8888888888888888,\"#fdca26\"],[1.0,\"#f0f921\"]],\"sequentialminus\":[[0.0,\"#0d0887\"],[0.1111111111111111,\"#46039f\"],[0.2222222222222222,\"#7201a8\"],[0.3333333333333333,\"#9c179e\"],[0.4444444444444444,\"#bd3786\"],[0.5555555555555556,\"#d8576b\"],[0.6666666666666666,\"#ed7953\"],[0.7777777777777778,\"#fb9f3a\"],[0.8888888888888888,\"#fdca26\"],[1.0,\"#f0f921\"]]},\"colorway\":[\"#636efa\",\"#EF553B\",\"#00cc96\",\"#ab63fa\",\"#FFA15A\",\"#19d3f3\",\"#FF6692\",\"#B6E880\",\"#FF97FF\",\"#FECB52\"],\"font\":{\"color\":\"#2a3f5f\"},\"geo\":{\"bgcolor\":\"white\",\"lakecolor\":\"white\",\"landcolor\":\"white\",\"showlakes\":true,\"showland\":true,\"subunitcolor\":\"#C8D4E3\"},\"hoverlabel\":{\"align\":\"left\"},\"hovermode\":\"closest\",\"mapbox\":{\"style\":\"light\"},\"paper_bgcolor\":\"white\",\"plot_bgcolor\":\"white\",\"polar\":{\"angularaxis\":{\"gridcolor\":\"#EBF0F8\",\"linecolor\":\"#EBF0F8\",\"ticks\":\"\"},\"bgcolor\":\"white\",\"radialaxis\":{\"gridcolor\":\"#EBF0F8\",\"linecolor\":\"#EBF0F8\",\"ticks\":\"\"}},\"scene\":{\"xaxis\":{\"backgroundcolor\":\"white\",\"gridcolor\":\"#DFE8F3\",\"gridwidth\":2,\"linecolor\":\"#EBF0F8\",\"showbackground\":true,\"ticks\":\"\",\"zerolinecolor\":\"#EBF0F8\"},\"yaxis\":{\"backgroundcolor\":\"white\",\"gridcolor\":\"#DFE8F3\",\"gridwidth\":2,\"linecolor\":\"#EBF0F8\",\"showbackground\":true,\"ticks\":\"\",\"zerolinecolor\":\"#EBF0F8\"},\"zaxis\":{\"backgroundcolor\":\"white\",\"gridcolor\":\"#DFE8F3\",\"gridwidth\":2,\"linecolor\":\"#EBF0F8\",\"showbackground\":true,\"ticks\":\"\",\"zerolinecolor\":\"#EBF0F8\"}},\"shapedefaults\":{\"line\":{\"color\":\"#2a3f5f\"}},\"ternary\":{\"aaxis\":{\"gridcolor\":\"#DFE8F3\",\"linecolor\":\"#A2B1C6\",\"ticks\":\"\"},\"baxis\":{\"gridcolor\":\"#DFE8F3\",\"linecolor\":\"#A2B1C6\",\"ticks\":\"\"},\"bgcolor\":\"white\",\"caxis\":{\"gridcolor\":\"#DFE8F3\",\"linecolor\":\"#A2B1C6\",\"ticks\":\"\"}},\"title\":{\"x\":0.05},\"xaxis\":{\"automargin\":true,\"gridcolor\":\"#EBF0F8\",\"linecolor\":\"#EBF0F8\",\"ticks\":\"\",\"title\":{\"standoff\":15},\"zerolinecolor\":\"#EBF0F8\",\"zerolinewidth\":2},\"yaxis\":{\"automargin\":true,\"gridcolor\":\"#EBF0F8\",\"linecolor\":\"#EBF0F8\",\"ticks\":\"\",\"title\":{\"standoff\":15},\"zerolinecolor\":\"#EBF0F8\",\"zerolinewidth\":2}}},\"xaxis\":{\"anchor\":\"y\",\"domain\":[0.0,1.0],\"title\":{\"text\":\"Time Period\"},\"showgrid\":true,\"color\":\"black\"},\"yaxis\":{\"anchor\":\"x\",\"domain\":[0.0,1.0],\"title\":{\"text\":\"Delay Time (Minute)\"},\"showgrid\":true,\"range\":[-6,6]},\"legend\":{\"title\":{\"text\":\"dummy\"},\"tracegroupgap\":0,\"x\":0,\"y\":1.0},\"title\":{\"text\":\"Tuen Ma Line (TML) Train Delay per Arrival\"},\"boxmode\":\"group\"},                        {\"responsive\": true}                    ).then(function(){\n",
       "                            \n",
       "var gd = document.getElementById('818c809f-58aa-4e2e-b458-8b14edaff226');\n",
       "var x = new MutationObserver(function (mutations, observer) {{\n",
       "        var display = window.getComputedStyle(gd).display;\n",
       "        if (!display || display === 'none') {{\n",
       "            console.log([gd, 'removed!']);\n",
       "            Plotly.purge(gd);\n",
       "            observer.disconnect();\n",
       "        }}\n",
       "}});\n",
       "\n",
       "// Listen for the removal of the full notebook cells\n",
       "var notebookContainer = gd.closest('#notebook-container');\n",
       "if (notebookContainer) {{\n",
       "    x.observe(notebookContainer, {childList: true});\n",
       "}}\n",
       "\n",
       "// Listen for the clearing of the current output cell\n",
       "var outputEl = gd.closest('.output');\n",
       "if (outputEl) {{\n",
       "    x.observe(outputEl, {childList: true});\n",
       "}}\n",
       "\n",
       "                        })                };                });            </script>        </div>"
      ]
     },
     "metadata": {},
     "output_type": "display_data"
    }
   ],
   "source": [
    "# Input Data\n",
    "### HEAVY RAIL ###\n",
    "# TYPE 1 - PLOTS RELATED TO STATION\n",
    "data_p_hr_1a_1 = {\n",
    "    'graph': 'p_hr_1a',\n",
    "    'start_station_id': 'TML-TKW',\n",
    "    'direction': 'up',\n",
    "    'start_time': '2022-04-22 16:00',\n",
    "    'end_time': '2022-04-22 20:00'  \n",
    "}\n",
    "\n",
    "\n",
    "# See the graphs you want here!\n",
    "p_hr_1a(data_p_hr_1a_1)\n",
    "\n",
    "# See the graphs you want here!\n",
    "data_p_hr_1a_2 = data_p_hr_1a_1.copy()\n",
    "data_p_hr_1a_2['direction'] = 'down'\n",
    "\n",
    "data_p_hr_1b = data_p_hr_1a_1.copy()\n",
    "data_p_hr_1b['graph'] = 'p_hr_1b'\n",
    "\n",
    "data_p_hr_1c = data_p_hr_1a_1.copy()\n",
    "data_p_hr_1c['graph'] = 'p_hr_1c'\n",
    "\n",
    "data_p_hr_1d = data_p_hr_1a_1.copy()\n",
    "data_p_hr_1d['graph'] = 'p_hr_1d'\n",
    "\n",
    "\n",
    "### LIGHT RAIL ###\n",
    "# TYPE 1 - PLOTS RELATED TO STATION\n",
    "data_p_lr_1a = {\n",
    "    'graph': 'p_lr_1a',\n",
    "    'start_station_id': '435',\n",
    "    'platform_id': '1',\n",
    "    'start_time': '2022-04-22 16:00',\n",
    "    'end_time': '2022-04-22 20:00'  \n",
    "}\n",
    "\n",
    "data_p_lr_1b = data_p_lr_1a.copy()\n",
    "data_p_lr_1b['graph'] = 'p_lr_1b'\n",
    "\n",
    "data_p_lr_1c = data_p_lr_1a.copy()\n",
    "data_p_lr_1c['graph'] = 'p_lr_1c'\n",
    "\n",
    "data_p_lr_1d = data_p_lr_1a.copy()\n",
    "data_p_lr_1d['graph'] = 'p_lr_1d'\n",
    "\n",
    "\n",
    "# TYPE 2 - PLOTS RELATED TO TRIPS BETWEEN TWO STATIONS\n",
    "data_p_lr_2a = {\n",
    "    'graph': 'p_lr_2a',\n",
    "    'start_station_id': '435',\n",
    "    'end_station_id': '436',\n",
    "    'platform_id': '1',\n",
    "    'start_time': '2022-04-22 16:00',\n",
    "    'end_time': '2022-04-22 20:00'  \n",
    "}\n",
    "\n",
    "\n",
    "# See the graphs you want here!\n",
    "# p_hr_1a(data_p_hr_1a_1)\n",
    "# p_hr_1b(data_p_hr_1b)\n",
    "# p_hr_1c(data_p_hr_1c)\n",
    "p_hr_1d(data_p_hr_1d)\n",
    "\n",
    "# p_lr_1a(data_p_lr_1a)\n",
    "# p_lr_1b(data_p_lr_1b)\n",
    "# p_lr_1c(data_p_lr_1c)\n",
    "# p_lr_1d(data_p_lr_1d)\n",
    "\n",
    "# p_lr_2a(data_p_lr_2a)"
   ]
  },
  {
   "cell_type": "code",
   "execution_count": 72,
   "id": "78172b5d",
   "metadata": {},
   "outputs": [
    {
     "name": "stdout",
     "output_type": "stream",
     "text": [
      "b'<!doctype html>\\n<html lang=en>\\n<title>500 Internal Server Error</title>\\n<h1>Internal Server Error</h1>\\n<p>The server encountered an internal error and was unable to complete your request. Either the server is overloaded or there is an error in the application.</p>\\n'\n"
     ]
    }
   ],
   "source": [
    "headers = {\n",
    "    'Content-Type': 'application/json',\n",
    "}\n",
    "\n",
    "data = {\n",
    "    \"start_station_id\": \"200\",\n",
    "    \"dest_station_id\": \"YUL\",\n",
    "    \"mode\": \"1\"\n",
    "}\n",
    "\n",
    "# Handle POST requests\n",
    "def adv_req_handler(headers, data):\n",
    "\n",
    "    res = req.post(\"http://127.0.0.1:5000/route\", headers=headers, data=json.dumps(data))\n",
    "    # data = json.loads(res.content)\n",
    "\n",
    "    return res.content\n",
    "\n",
    "\n",
    "result = adv_req_handler(headers, data)\n",
    "print(result)"
   ]
  },
  {
   "cell_type": "code",
   "execution_count": null,
   "id": "b386119e",
   "metadata": {},
   "outputs": [],
   "source": []
  },
  {
   "cell_type": "code",
   "execution_count": null,
   "id": "968cdab4",
   "metadata": {},
   "outputs": [],
   "source": []
  }
 ],
 "metadata": {
  "kernelspec": {
   "display_name": "Python 3",
   "language": "python",
   "name": "python3"
  },
  "language_info": {
   "codemirror_mode": {
    "name": "ipython",
    "version": 3
   },
   "file_extension": ".py",
   "mimetype": "text/x-python",
   "name": "python",
   "nbconvert_exporter": "python",
   "pygments_lexer": "ipython3",
   "version": "3.7.13"
  }
 },
 "nbformat": 4,
 "nbformat_minor": 5
}
